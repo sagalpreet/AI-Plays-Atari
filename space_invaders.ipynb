{
 "cells": [
  {
   "cell_type": "code",
   "execution_count": 26,
   "id": "cathedral-baseline",
   "metadata": {},
   "outputs": [],
   "source": [
    "import gym\n",
    "import numpy as np\n",
    "import torch\n",
    "import torch.nn as nn\n",
    "import torch.nn.functional as F\n",
    "from collections import deque"
   ]
  },
  {
   "cell_type": "code",
   "execution_count": 188,
   "id": "simplified-pakistan",
   "metadata": {
    "scrolled": true
   },
   "outputs": [],
   "source": [
    "class approximator(nn.Module):\n",
    "    def __init__(self):\n",
    "        super().__init__()\n",
    "        self.act1 = F.leaky_relu\n",
    "        self.layer1 = nn.Linear(129, 32) # hidden layer 1\n",
    "        self.act2 = F.leaky_relu\n",
    "        self.layer2 = nn.Linear(32, 32)  # hidden layer 2\n",
    "        self.layer3 = nn.Linear(32, 1)   # output layer\n",
    "        self.loss = F.mse_loss           # loss function\n",
    "    \n",
    "    def forward(self, inputs):\n",
    "        out = self.act1(self.layer1(inputs))\n",
    "        out = self.act2(self.layer2(out))\n",
    "        out = self.layer3(out)\n",
    "        return out\n",
    "    \n",
    "    def train(self, inputs, targets): \n",
    "        self.opt = torch.optim.SGD(self.parameters(), lr = 1e-8)\n",
    "        num_epochs = 30\n",
    "        for epoch in range(num_epochs):\n",
    "            out = self(inputs)\n",
    "            error = self.loss(out, targets)\n",
    "            error.backward()\n",
    "            self.opt.step()\n",
    "            self.opt.zero_grad()      "
   ]
  },
  {
   "cell_type": "code",
   "execution_count": 27,
   "id": "painted-aruba",
   "metadata": {},
   "outputs": [],
   "source": [
    "class Agent:\n",
    "    def __init__(self, env):\n",
    "        self.experience = deque(10_000)\n",
    "        \n",
    "        self.q_values = approximator()\n",
    "        self.q_values_ = approximator()\n",
    "    \n",
    "        self.env = env\n",
    "        self.actions = [action for action in range(env.env.action_space.n)]\n",
    "        self.epsilon = 0.1 / len(self.actions)\n",
    "        self.gamma = 1\n",
    "        \n",
    "    def select_action(self, state):\n",
    "        action = -1\n",
    "        \n",
    "        if (np.random.random() < self.epsilon):\n",
    "            action = np.random.choice(self.actions)\n",
    "            return action\n",
    "        \n",
    "        values = []\n",
    "        for action in self.actions:\n",
    "            inp = torch.tensor(np.append(state, [action])).float().reshape(1, -1)\n",
    "            value = float(self.q_values(inp))\n",
    "            values.append((value, action))\n",
    "        values.sort(reverse = True)\n",
    "        return values[0][1]\n",
    "    \n",
    "    def take_action(self, state):\n",
    "        action = self.select_action(state)\n",
    "        next_state, reward, done = self.env.step(action)\n",
    "        \n",
    "        \n",
    "        "
   ]
  },
  {
   "cell_type": "code",
   "execution_count": 6,
   "id": "enormous-witch",
   "metadata": {},
   "outputs": [
    {
     "name": "stdout",
     "output_type": "stream",
     "text": [
      "Episode:0 Score:100.0\n",
      "Episode:1 Score:155.0\n",
      "Episode:2 Score:370.0\n",
      "Episode:3 Score:135.0\n",
      "Episode:4 Score:125.0\n",
      "Episode:5 Score:255.0\n",
      "Episode:6 Score:70.0\n",
      "Episode:7 Score:90.0\n",
      "Episode:8 Score:45.0\n",
      "Episode:9 Score:105.0\n"
     ]
    }
   ],
   "source": [
    "for i in range(10):\n",
    "    state = env.reset()\n",
    "    done = False\n",
    "    score = 0\n",
    "    \n",
    "    while not done:\n",
    "        env.render()\n",
    "        action = np.random.choice([0, 1, 2, 3, 4, 5])\n",
    "        n_state, reward, done, info = env.step(action)\n",
    "        score += reward\n",
    "    print(f'Episode:{i} Score:{score}')\n",
    "env.close()"
   ]
  },
  {
   "cell_type": "code",
   "execution_count": null,
   "id": "victorian-nicaragua",
   "metadata": {},
   "outputs": [],
   "source": []
  },
  {
   "cell_type": "code",
   "execution_count": 18,
   "id": "failing-teens",
   "metadata": {},
   "outputs": [],
   "source": [
    "env = gym.make('SpaceInvaders-ram-v0')"
   ]
  },
  {
   "cell_type": "code",
   "execution_count": 19,
   "id": "instrumental-level",
   "metadata": {},
   "outputs": [
    {
     "data": {
      "text/plain": [
       "Discrete(6)"
      ]
     },
     "execution_count": 19,
     "metadata": {},
     "output_type": "execute_result"
    }
   ],
   "source": [
    "env.action_space"
   ]
  },
  {
   "cell_type": "code",
   "execution_count": 25,
   "id": "final-rehabilitation",
   "metadata": {},
   "outputs": [
    {
     "data": {
      "text/plain": [
       "array([  0,   7,   0,  68, 241, 162,  34, 183,  68,  13, 124, 255, 255,\n",
       "        50, 255, 255,   0,  36,  63,  63,  63,  63,  63,  63,  82,   0,\n",
       "        23,  43,  35, 117, 180,   0,  36,  63,  63,  63,  63,  63,  63,\n",
       "       110,   0,  23,   1,  60, 126, 126, 126, 126, 255, 255, 255, 195,\n",
       "        60, 126, 126, 126, 126, 255, 255, 255, 195,  60, 126, 126, 126,\n",
       "       126, 255, 255, 255, 195,   0,   0,  48,   3, 129,   0,   0,   0,\n",
       "         0,   0,   0, 246, 246,  63,  63, 246, 246,  63,  63,   0,  21,\n",
       "        24,   0,  52,  82, 196, 246,  20,   7,   0, 226,   0,   0,   0,\n",
       "         0,   0,  21,  63,   0, 128, 171,   0, 255,   0, 189,   0,   0,\n",
       "         0,   0,   0,  99, 255,   0,   0, 235, 254, 192, 242], dtype=uint8)"
      ]
     },
     "execution_count": 25,
     "metadata": {},
     "output_type": "execute_result"
    }
   ],
   "source": [
    "env.reset()"
   ]
  },
  {
   "cell_type": "code",
   "execution_count": 160,
   "id": "toxic-sauce",
   "metadata": {},
   "outputs": [],
   "source": [
    "a = approximator()"
   ]
  },
  {
   "cell_type": "code",
   "execution_count": 162,
   "id": "german-father",
   "metadata": {},
   "outputs": [],
   "source": [
    "inp = torch.tensor(np.array([[i for i in range(129)], [-i for i in range(129)]])).float()"
   ]
  },
  {
   "cell_type": "code",
   "execution_count": 163,
   "id": "affecting-spencer",
   "metadata": {},
   "outputs": [],
   "source": [
    "tar = torch.tensor(np.array([[8256], [-8256]])).float()"
   ]
  },
  {
   "cell_type": "code",
   "execution_count": 186,
   "id": "worst-plastic",
   "metadata": {},
   "outputs": [],
   "source": [
    "for i in range(10):\n",
    "    a.train(inp, tar)"
   ]
  },
  {
   "cell_type": "code",
   "execution_count": 187,
   "id": "fifty-inside",
   "metadata": {},
   "outputs": [
    {
     "data": {
      "text/plain": [
       "tensor([[ 8256.],\n",
       "        [-8256.]], grad_fn=<AddmmBackward>)"
      ]
     },
     "execution_count": 187,
     "metadata": {},
     "output_type": "execute_result"
    }
   ],
   "source": [
    "a(inp)"
   ]
  },
  {
   "cell_type": "code",
   "execution_count": 164,
   "id": "conscious-bleeding",
   "metadata": {},
   "outputs": [
    {
     "data": {
      "text/plain": [
       "tensor([[   0.,    1.,    2.,    3.,    4.,    5.,    6.,    7.,    8.,    9.,\n",
       "           10.,   11.,   12.,   13.,   14.,   15.,   16.,   17.,   18.,   19.,\n",
       "           20.,   21.,   22.,   23.,   24.,   25.,   26.,   27.,   28.,   29.,\n",
       "           30.,   31.,   32.,   33.,   34.,   35.,   36.,   37.,   38.,   39.,\n",
       "           40.,   41.,   42.,   43.,   44.,   45.,   46.,   47.,   48.,   49.,\n",
       "           50.,   51.,   52.,   53.,   54.,   55.,   56.,   57.,   58.,   59.,\n",
       "           60.,   61.,   62.,   63.,   64.,   65.,   66.,   67.,   68.,   69.,\n",
       "           70.,   71.,   72.,   73.,   74.,   75.,   76.,   77.,   78.,   79.,\n",
       "           80.,   81.,   82.,   83.,   84.,   85.,   86.,   87.,   88.,   89.,\n",
       "           90.,   91.,   92.,   93.,   94.,   95.,   96.,   97.,   98.,   99.,\n",
       "          100.,  101.,  102.,  103.,  104.,  105.,  106.,  107.,  108.,  109.,\n",
       "          110.,  111.,  112.,  113.,  114.,  115.,  116.,  117.,  118.,  119.,\n",
       "          120.,  121.,  122.,  123.,  124.,  125.,  126.,  127.,  128.],\n",
       "        [   0.,   -1.,   -2.,   -3.,   -4.,   -5.,   -6.,   -7.,   -8.,   -9.,\n",
       "          -10.,  -11.,  -12.,  -13.,  -14.,  -15.,  -16.,  -17.,  -18.,  -19.,\n",
       "          -20.,  -21.,  -22.,  -23.,  -24.,  -25.,  -26.,  -27.,  -28.,  -29.,\n",
       "          -30.,  -31.,  -32.,  -33.,  -34.,  -35.,  -36.,  -37.,  -38.,  -39.,\n",
       "          -40.,  -41.,  -42.,  -43.,  -44.,  -45.,  -46.,  -47.,  -48.,  -49.,\n",
       "          -50.,  -51.,  -52.,  -53.,  -54.,  -55.,  -56.,  -57.,  -58.,  -59.,\n",
       "          -60.,  -61.,  -62.,  -63.,  -64.,  -65.,  -66.,  -67.,  -68.,  -69.,\n",
       "          -70.,  -71.,  -72.,  -73.,  -74.,  -75.,  -76.,  -77.,  -78.,  -79.,\n",
       "          -80.,  -81.,  -82.,  -83.,  -84.,  -85.,  -86.,  -87.,  -88.,  -89.,\n",
       "          -90.,  -91.,  -92.,  -93.,  -94.,  -95.,  -96.,  -97.,  -98.,  -99.,\n",
       "         -100., -101., -102., -103., -104., -105., -106., -107., -108., -109.,\n",
       "         -110., -111., -112., -113., -114., -115., -116., -117., -118., -119.,\n",
       "         -120., -121., -122., -123., -124., -125., -126., -127., -128.]])"
      ]
     },
     "execution_count": 164,
     "metadata": {},
     "output_type": "execute_result"
    }
   ],
   "source": [
    "inp"
   ]
  },
  {
   "cell_type": "code",
   "execution_count": 165,
   "id": "thirty-trinidad",
   "metadata": {},
   "outputs": [
    {
     "data": {
      "text/plain": [
       "tensor([[ 8256.],\n",
       "        [-8256.]])"
      ]
     },
     "execution_count": 165,
     "metadata": {},
     "output_type": "execute_result"
    }
   ],
   "source": [
    "tar"
   ]
  },
  {
   "cell_type": "code",
   "execution_count": 200,
   "id": "instrumental-posting",
   "metadata": {},
   "outputs": [],
   "source": [
    "x=env.action_space"
   ]
  },
  {
   "cell_type": "code",
   "execution_count": 204,
   "id": "blank-bulgarian",
   "metadata": {},
   "outputs": [
    {
     "data": {
      "text/plain": [
       "6"
      ]
     },
     "execution_count": 204,
     "metadata": {},
     "output_type": "execute_result"
    }
   ],
   "source": [
    "x.n"
   ]
  },
  {
   "cell_type": "code",
   "execution_count": 209,
   "id": "respiratory-crash",
   "metadata": {},
   "outputs": [],
   "source": [
    "x = np.array([1, 2])"
   ]
  },
  {
   "cell_type": "code",
   "execution_count": 211,
   "id": "dedicated-playlist",
   "metadata": {},
   "outputs": [
    {
     "data": {
      "text/plain": [
       "array([1, 2, 3])"
      ]
     },
     "execution_count": 211,
     "metadata": {},
     "output_type": "execute_result"
    }
   ],
   "source": [
    "np.append(x, [3])"
   ]
  },
  {
   "cell_type": "code",
   "execution_count": 213,
   "id": "generous-sessions",
   "metadata": {},
   "outputs": [],
   "source": [
    "x=torch.tensor([[1]])"
   ]
  },
  {
   "cell_type": "code",
   "execution_count": 215,
   "id": "individual-shipping",
   "metadata": {},
   "outputs": [
    {
     "data": {
      "text/plain": [
       "tensor([[1]])"
      ]
     },
     "execution_count": 215,
     "metadata": {},
     "output_type": "execute_result"
    }
   ],
   "source": [
    "x"
   ]
  },
  {
   "cell_type": "code",
   "execution_count": 223,
   "id": "japanese-franklin",
   "metadata": {},
   "outputs": [
    {
     "data": {
      "text/plain": [
       "1.0"
      ]
     },
     "execution_count": 223,
     "metadata": {},
     "output_type": "execute_result"
    }
   ],
   "source": [
    "float(x)"
   ]
  },
  {
   "cell_type": "code",
   "execution_count": 224,
   "id": "sustainable-singer",
   "metadata": {},
   "outputs": [],
   "source": [
    "env.step?"
   ]
  },
  {
   "cell_type": "code",
   "execution_count": null,
   "id": "useful-exhaust",
   "metadata": {},
   "outputs": [],
   "source": []
  }
 ],
 "metadata": {
  "kernelspec": {
   "display_name": "Python 3.8.5 64-bit",
   "language": "python",
   "name": "python38564bit83331925f92c4b3796ee4acb16036a44"
  },
  "language_info": {
   "codemirror_mode": {
    "name": "ipython",
    "version": 3
   },
   "file_extension": ".py",
   "mimetype": "text/x-python",
   "name": "python",
   "nbconvert_exporter": "python",
   "pygments_lexer": "ipython3",
   "version": "3.8.10"
  }
 },
 "nbformat": 4,
 "nbformat_minor": 5
}
